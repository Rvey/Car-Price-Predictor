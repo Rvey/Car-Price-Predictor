{
 "cells": [
  {
   "cell_type": "code",
   "execution_count": 141,
   "metadata": {},
   "outputs": [],
   "source": [
    "import pandas as pd\n",
    "import numpy as np\n",
    "import matplotlib.pyplot as plt\n",
    "import matplotlib as mpl\n",
    "import seaborn as sns\n",
    "from sklearn.model_selection import train_test_split\n",
    "from sklearn.preprocessing import OneHotEncoder\n",
    "from sklearn.compose import make_column_transformer\n",
    "from sklearn.pipeline import make_pipeline\n",
    "from sklearn.metrics import r2_score\n",
    "from sklearn.linear_model import LinearRegression\n",
    "import pickle\n",
    "\n",
    "%matplotlib inline\n",
    "mpl.style.use('ggplot')\n",
    "\n",
    "import warnings\n",
    "warnings.filterwarnings('ignore')"
   ]
  },
  {
   "cell_type": "code",
   "execution_count": 161,
   "metadata": {},
   "outputs": [],
   "source": [
    "car=pd.read_csv('cotationprice.csv')"
   ]
  },
  {
   "cell_type": "code",
   "execution_count": 162,
   "metadata": {},
   "outputs": [
    {
     "data": {
      "text/html": [
       "<div>\n",
       "<style scoped>\n",
       "    .dataframe tbody tr th:only-of-type {\n",
       "        vertical-align: middle;\n",
       "    }\n",
       "\n",
       "    .dataframe tbody tr th {\n",
       "        vertical-align: top;\n",
       "    }\n",
       "\n",
       "    .dataframe thead th {\n",
       "        text-align: right;\n",
       "    }\n",
       "</style>\n",
       "<table border=\"1\" class=\"dataframe\">\n",
       "  <thead>\n",
       "    <tr style=\"text-align: right;\">\n",
       "      <th></th>\n",
       "      <th>brand</th>\n",
       "      <th>model</th>\n",
       "      <th>year</th>\n",
       "      <th>energy</th>\n",
       "      <th>gear_box</th>\n",
       "      <th>trim</th>\n",
       "      <th>price</th>\n",
       "    </tr>\n",
       "  </thead>\n",
       "  <tbody>\n",
       "    <tr>\n",
       "      <th>0</th>\n",
       "      <td>PEUGEOT</td>\n",
       "      <td>2008</td>\n",
       "      <td>2021</td>\n",
       "      <td>Electrique</td>\n",
       "      <td>Automatique</td>\n",
       "      <td>e-2008 136ch GT Pack</td>\n",
       "      <td>36 890 €</td>\n",
       "    </tr>\n",
       "    <tr>\n",
       "      <th>1</th>\n",
       "      <td>NISSAN</td>\n",
       "      <td>Qashqai</td>\n",
       "      <td>2020</td>\n",
       "      <td>Diesel</td>\n",
       "      <td>Manuelle</td>\n",
       "      <td>1.5 dCi 115ch N-Connecta Euro6d-T</td>\n",
       "      <td>21 890 €</td>\n",
       "    </tr>\n",
       "    <tr>\n",
       "      <th>2</th>\n",
       "      <td>RENAULT</td>\n",
       "      <td>Captur</td>\n",
       "      <td>2018</td>\n",
       "      <td>Essence</td>\n",
       "      <td>Manuelle</td>\n",
       "      <td>0.9 TCe 90ch energy Business Euro6c</td>\n",
       "      <td>14 999 €</td>\n",
       "    </tr>\n",
       "    <tr>\n",
       "      <th>3</th>\n",
       "      <td>RENAULT</td>\n",
       "      <td>Kadjar</td>\n",
       "      <td>2021</td>\n",
       "      <td>Diesel</td>\n",
       "      <td>Manuelle</td>\n",
       "      <td>1.5 Blue dCi 115ch Business - 21</td>\n",
       "      <td>23 780 €</td>\n",
       "    </tr>\n",
       "    <tr>\n",
       "      <th>4</th>\n",
       "      <td>PEUGEOT</td>\n",
       "      <td>2008</td>\n",
       "      <td>2018</td>\n",
       "      <td>Essence</td>\n",
       "      <td>Manuelle</td>\n",
       "      <td>1.2 PureTech 130ch Crossway S&amp;S</td>\n",
       "      <td>16 490 €</td>\n",
       "    </tr>\n",
       "  </tbody>\n",
       "</table>\n",
       "</div>"
      ],
      "text/plain": [
       "     brand    model  year      energy     gear_box  \\\n",
       "0  PEUGEOT     2008  2021  Electrique  Automatique   \n",
       "1   NISSAN  Qashqai  2020      Diesel     Manuelle   \n",
       "2  RENAULT   Captur  2018     Essence     Manuelle   \n",
       "3  RENAULT   Kadjar  2021      Diesel     Manuelle   \n",
       "4  PEUGEOT     2008  2018     Essence     Manuelle   \n",
       "\n",
       "                                  trim     price  \n",
       "0                 e-2008 136ch GT Pack  36 890 €  \n",
       "1    1.5 dCi 115ch N-Connecta Euro6d-T  21 890 €  \n",
       "2  0.9 TCe 90ch energy Business Euro6c  14 999 €  \n",
       "3     1.5 Blue dCi 115ch Business - 21  23 780 €  \n",
       "4      1.2 PureTech 130ch Crossway S&S  16 490 €  "
      ]
     },
     "execution_count": 162,
     "metadata": {},
     "output_type": "execute_result"
    }
   ],
   "source": [
    "car.head()"
   ]
  },
  {
   "cell_type": "code",
   "execution_count": 163,
   "metadata": {},
   "outputs": [
    {
     "data": {
      "text/plain": [
       "(44399, 7)"
      ]
     },
     "execution_count": 163,
     "metadata": {},
     "output_type": "execute_result"
    }
   ],
   "source": [
    "car.shape"
   ]
  },
  {
   "cell_type": "code",
   "execution_count": 164,
   "metadata": {},
   "outputs": [
    {
     "name": "stdout",
     "output_type": "stream",
     "text": [
      "<class 'pandas.core.frame.DataFrame'>\n",
      "RangeIndex: 44399 entries, 0 to 44398\n",
      "Data columns (total 7 columns):\n",
      " #   Column    Non-Null Count  Dtype \n",
      "---  ------    --------------  ----- \n",
      " 0   brand     44399 non-null  object\n",
      " 1   model     44399 non-null  object\n",
      " 2   year      44399 non-null  int64 \n",
      " 3   energy    44390 non-null  object\n",
      " 4   gear_box  44354 non-null  object\n",
      " 5   trim      44394 non-null  object\n",
      " 6   price     44399 non-null  object\n",
      "dtypes: int64(1), object(6)\n",
      "memory usage: 2.4+ MB\n"
     ]
    }
   ],
   "source": [
    "car.info()"
   ]
  },
  {
   "cell_type": "markdown",
   "metadata": {},
   "source": [
    "##### Check for null values"
   ]
  },
  {
   "cell_type": "code",
   "execution_count": 165,
   "metadata": {},
   "outputs": [
    {
     "data": {
      "text/plain": [
       "brand        0\n",
       "model        0\n",
       "year         0\n",
       "energy       9\n",
       "gear_box    45\n",
       "trim         5\n",
       "price        0\n",
       "dtype: int64"
      ]
     },
     "execution_count": 165,
     "metadata": {},
     "output_type": "execute_result"
    }
   ],
   "source": [
    "car.isnull().sum()"
   ]
  },
  {
   "cell_type": "markdown",
   "metadata": {},
   "source": [
    "## Cleaning Data"
   ]
  },
  {
   "cell_type": "markdown",
   "metadata": {},
   "source": [
    "#### year is an object. Change to integer"
   ]
  },
  {
   "cell_type": "code",
   "execution_count": 166,
   "metadata": {},
   "outputs": [],
   "source": [
    "car['year']=car['year'].astype(np.int64)"
   ]
  },
  {
   "cell_type": "markdown",
   "metadata": {},
   "source": [
    "#### Check for null values"
   ]
  },
  {
   "cell_type": "markdown",
   "metadata": {},
   "source": [
    "#### convert prices to int64 and remove special char with prices that equal to zero"
   ]
  },
  {
   "cell_type": "code",
   "execution_count": 167,
   "metadata": {},
   "outputs": [],
   "source": [
    "car['price'] = car['price'].str.replace(r'[^0-9]+', '', regex=True)\n",
    "car['price'] = car['price'].astype(np.int64)\n",
    "car = car[car['price']!=0]\n"
   ]
  },
  {
   "cell_type": "code",
   "execution_count": 168,
   "metadata": {
    "collapsed": false
   },
   "outputs": [
    {
     "name": "stdout",
     "output_type": "stream",
     "text": [
      "<class 'pandas.core.frame.DataFrame'>\n",
      "Int64Index: 44398 entries, 0 to 44398\n",
      "Data columns (total 7 columns):\n",
      " #   Column    Non-Null Count  Dtype \n",
      "---  ------    --------------  ----- \n",
      " 0   brand     44398 non-null  object\n",
      " 1   model     44398 non-null  object\n",
      " 2   year      44398 non-null  int64 \n",
      " 3   energy    44389 non-null  object\n",
      " 4   gear_box  44353 non-null  object\n",
      " 5   trim      44393 non-null  object\n",
      " 6   price     44398 non-null  int64 \n",
      "dtypes: int64(2), object(5)\n",
      "memory usage: 2.7+ MB\n"
     ]
    }
   ],
   "source": [
    "car.info()"
   ]
  },
  {
   "cell_type": "markdown",
   "metadata": {
    "collapsed": false
   },
   "source": [
    "#### gear_box & Trim has nan values"
   ]
  },
  {
   "cell_type": "code",
   "execution_count": 170,
   "metadata": {},
   "outputs": [],
   "source": [
    "car=car[~car['gear_box'].isna()]\n",
    "car=car[~car['trim'].isna()]\n",
    "car=car[~car['energy'].isna()]"
   ]
  },
  {
   "cell_type": "code",
   "execution_count": 171,
   "metadata": {},
   "outputs": [
    {
     "data": {
      "text/plain": [
       "(44348, 7)"
      ]
     },
     "execution_count": 171,
     "metadata": {},
     "output_type": "execute_result"
    }
   ],
   "source": [
    "car.shape"
   ]
  },
  {
   "cell_type": "markdown",
   "metadata": {
    "collapsed": false
   },
   "source": [
    "### check null values"
   ]
  },
  {
   "cell_type": "code",
   "execution_count": 172,
   "metadata": {
    "collapsed": false
   },
   "outputs": [
    {
     "data": {
      "text/html": [
       "<div>\n",
       "<style scoped>\n",
       "    .dataframe tbody tr th:only-of-type {\n",
       "        vertical-align: middle;\n",
       "    }\n",
       "\n",
       "    .dataframe tbody tr th {\n",
       "        vertical-align: top;\n",
       "    }\n",
       "\n",
       "    .dataframe thead th {\n",
       "        text-align: right;\n",
       "    }\n",
       "</style>\n",
       "<table border=\"1\" class=\"dataframe\">\n",
       "  <thead>\n",
       "    <tr style=\"text-align: right;\">\n",
       "      <th></th>\n",
       "      <th>year</th>\n",
       "      <th>price</th>\n",
       "    </tr>\n",
       "  </thead>\n",
       "  <tbody>\n",
       "    <tr>\n",
       "      <th>count</th>\n",
       "      <td>44348.000000</td>\n",
       "      <td>44348.000000</td>\n",
       "    </tr>\n",
       "    <tr>\n",
       "      <th>mean</th>\n",
       "      <td>2019.906084</td>\n",
       "      <td>28105.820578</td>\n",
       "    </tr>\n",
       "    <tr>\n",
       "      <th>std</th>\n",
       "      <td>1.699967</td>\n",
       "      <td>15195.889409</td>\n",
       "    </tr>\n",
       "    <tr>\n",
       "      <th>min</th>\n",
       "      <td>2009.000000</td>\n",
       "      <td>4990.000000</td>\n",
       "    </tr>\n",
       "    <tr>\n",
       "      <th>25%</th>\n",
       "      <td>2019.000000</td>\n",
       "      <td>17900.000000</td>\n",
       "    </tr>\n",
       "    <tr>\n",
       "      <th>50%</th>\n",
       "      <td>2020.000000</td>\n",
       "      <td>24900.000000</td>\n",
       "    </tr>\n",
       "    <tr>\n",
       "      <th>75%</th>\n",
       "      <td>2021.000000</td>\n",
       "      <td>33999.000000</td>\n",
       "    </tr>\n",
       "    <tr>\n",
       "      <th>max</th>\n",
       "      <td>2022.000000</td>\n",
       "      <td>269800.000000</td>\n",
       "    </tr>\n",
       "  </tbody>\n",
       "</table>\n",
       "</div>"
      ],
      "text/plain": [
       "               year          price\n",
       "count  44348.000000   44348.000000\n",
       "mean    2019.906084   28105.820578\n",
       "std        1.699967   15195.889409\n",
       "min     2009.000000    4990.000000\n",
       "25%     2019.000000   17900.000000\n",
       "50%     2020.000000   24900.000000\n",
       "75%     2021.000000   33999.000000\n",
       "max     2022.000000  269800.000000"
      ]
     },
     "execution_count": 172,
     "metadata": {},
     "output_type": "execute_result"
    }
   ],
   "source": [
    "car.isnull().sum()\n",
    "car.describe()"
   ]
  },
  {
   "cell_type": "markdown",
   "metadata": {},
   "source": [
    "#### Resetting the index of the final cleaned data"
   ]
  },
  {
   "cell_type": "code",
   "execution_count": 173,
   "metadata": {},
   "outputs": [],
   "source": [
    "car=car.reset_index(drop=True)"
   ]
  },
  {
   "cell_type": "markdown",
   "metadata": {},
   "source": [
    "## Cleaned Data"
   ]
  },
  {
   "cell_type": "code",
   "execution_count": 174,
   "metadata": {},
   "outputs": [
    {
     "data": {
      "text/html": [
       "<div>\n",
       "<style scoped>\n",
       "    .dataframe tbody tr th:only-of-type {\n",
       "        vertical-align: middle;\n",
       "    }\n",
       "\n",
       "    .dataframe tbody tr th {\n",
       "        vertical-align: top;\n",
       "    }\n",
       "\n",
       "    .dataframe thead th {\n",
       "        text-align: right;\n",
       "    }\n",
       "</style>\n",
       "<table border=\"1\" class=\"dataframe\">\n",
       "  <thead>\n",
       "    <tr style=\"text-align: right;\">\n",
       "      <th></th>\n",
       "      <th>brand</th>\n",
       "      <th>model</th>\n",
       "      <th>year</th>\n",
       "      <th>energy</th>\n",
       "      <th>gear_box</th>\n",
       "      <th>trim</th>\n",
       "      <th>price</th>\n",
       "    </tr>\n",
       "  </thead>\n",
       "  <tbody>\n",
       "    <tr>\n",
       "      <th>0</th>\n",
       "      <td>PEUGEOT</td>\n",
       "      <td>2008</td>\n",
       "      <td>2021</td>\n",
       "      <td>Electrique</td>\n",
       "      <td>Automatique</td>\n",
       "      <td>e-2008 136ch GT Pack</td>\n",
       "      <td>36890</td>\n",
       "    </tr>\n",
       "    <tr>\n",
       "      <th>1</th>\n",
       "      <td>NISSAN</td>\n",
       "      <td>Qashqai</td>\n",
       "      <td>2020</td>\n",
       "      <td>Diesel</td>\n",
       "      <td>Manuelle</td>\n",
       "      <td>1.5 dCi 115ch N-Connecta Euro6d-T</td>\n",
       "      <td>21890</td>\n",
       "    </tr>\n",
       "    <tr>\n",
       "      <th>2</th>\n",
       "      <td>RENAULT</td>\n",
       "      <td>Captur</td>\n",
       "      <td>2018</td>\n",
       "      <td>Essence</td>\n",
       "      <td>Manuelle</td>\n",
       "      <td>0.9 TCe 90ch energy Business Euro6c</td>\n",
       "      <td>14999</td>\n",
       "    </tr>\n",
       "    <tr>\n",
       "      <th>3</th>\n",
       "      <td>RENAULT</td>\n",
       "      <td>Kadjar</td>\n",
       "      <td>2021</td>\n",
       "      <td>Diesel</td>\n",
       "      <td>Manuelle</td>\n",
       "      <td>1.5 Blue dCi 115ch Business - 21</td>\n",
       "      <td>23780</td>\n",
       "    </tr>\n",
       "    <tr>\n",
       "      <th>4</th>\n",
       "      <td>PEUGEOT</td>\n",
       "      <td>2008</td>\n",
       "      <td>2018</td>\n",
       "      <td>Essence</td>\n",
       "      <td>Manuelle</td>\n",
       "      <td>1.2 PureTech 130ch Crossway S&amp;S</td>\n",
       "      <td>16490</td>\n",
       "    </tr>\n",
       "    <tr>\n",
       "      <th>...</th>\n",
       "      <td>...</td>\n",
       "      <td>...</td>\n",
       "      <td>...</td>\n",
       "      <td>...</td>\n",
       "      <td>...</td>\n",
       "      <td>...</td>\n",
       "      <td>...</td>\n",
       "    </tr>\n",
       "    <tr>\n",
       "      <th>44343</th>\n",
       "      <td>PEUGEOT</td>\n",
       "      <td>308</td>\n",
       "      <td>2022</td>\n",
       "      <td>Essence</td>\n",
       "      <td>Manuelle</td>\n",
       "      <td>PURETECH 130CH S&amp;S BVM6 ALLURE</td>\n",
       "      <td>27800</td>\n",
       "    </tr>\n",
       "    <tr>\n",
       "      <th>44344</th>\n",
       "      <td>CITROËN</td>\n",
       "      <td>JUMPY</td>\n",
       "      <td>2019</td>\n",
       "      <td>Diesel</td>\n",
       "      <td>Manuelle</td>\n",
       "      <td>FGN M BLUEHDI 120 S&amp;S BVM6 BUSINESS</td>\n",
       "      <td>20980</td>\n",
       "    </tr>\n",
       "    <tr>\n",
       "      <th>44345</th>\n",
       "      <td>CITROËN</td>\n",
       "      <td>C3</td>\n",
       "      <td>2020</td>\n",
       "      <td>Essence</td>\n",
       "      <td>Manuelle</td>\n",
       "      <td>PURETECH 82 S&amp;S BVM5 FEEL BUSINESS</td>\n",
       "      <td>13980</td>\n",
       "    </tr>\n",
       "    <tr>\n",
       "      <th>44346</th>\n",
       "      <td>LAND</td>\n",
       "      <td>ROVER RANGE</td>\n",
       "      <td>2016</td>\n",
       "      <td>Diesel</td>\n",
       "      <td>Manuelle</td>\n",
       "      <td>MARK IV ED4 150 2WD E-CAPABILITY PURE</td>\n",
       "      <td>22990</td>\n",
       "    </tr>\n",
       "    <tr>\n",
       "      <th>44347</th>\n",
       "      <td>PEUGEOT</td>\n",
       "      <td>2008</td>\n",
       "      <td>2016</td>\n",
       "      <td>Essence</td>\n",
       "      <td>Manuelle</td>\n",
       "      <td>1.2 PURETECH 110CH S&amp;S BVM5 CROSSWAY</td>\n",
       "      <td>11990</td>\n",
       "    </tr>\n",
       "  </tbody>\n",
       "</table>\n",
       "<p>44348 rows × 7 columns</p>\n",
       "</div>"
      ],
      "text/plain": [
       "         brand        model  year      energy     gear_box  \\\n",
       "0      PEUGEOT         2008  2021  Electrique  Automatique   \n",
       "1       NISSAN      Qashqai  2020      Diesel     Manuelle   \n",
       "2      RENAULT       Captur  2018     Essence     Manuelle   \n",
       "3      RENAULT       Kadjar  2021      Diesel     Manuelle   \n",
       "4      PEUGEOT         2008  2018     Essence     Manuelle   \n",
       "...        ...          ...   ...         ...          ...   \n",
       "44343  PEUGEOT          308  2022     Essence     Manuelle   \n",
       "44344  CITROËN        JUMPY  2019      Diesel     Manuelle   \n",
       "44345  CITROËN           C3  2020     Essence     Manuelle   \n",
       "44346     LAND  ROVER RANGE  2016      Diesel     Manuelle   \n",
       "44347  PEUGEOT         2008  2016     Essence     Manuelle   \n",
       "\n",
       "                                        trim  price  \n",
       "0                       e-2008 136ch GT Pack  36890  \n",
       "1          1.5 dCi 115ch N-Connecta Euro6d-T  21890  \n",
       "2        0.9 TCe 90ch energy Business Euro6c  14999  \n",
       "3           1.5 Blue dCi 115ch Business - 21  23780  \n",
       "4            1.2 PureTech 130ch Crossway S&S  16490  \n",
       "...                                      ...    ...  \n",
       "44343         PURETECH 130CH S&S BVM6 ALLURE  27800  \n",
       "44344    FGN M BLUEHDI 120 S&S BVM6 BUSINESS  20980  \n",
       "44345     PURETECH 82 S&S BVM5 FEEL BUSINESS  13980  \n",
       "44346  MARK IV ED4 150 2WD E-CAPABILITY PURE  22990  \n",
       "44347   1.2 PURETECH 110CH S&S BVM5 CROSSWAY  11990  \n",
       "\n",
       "[44348 rows x 7 columns]"
      ]
     },
     "execution_count": 174,
     "metadata": {},
     "output_type": "execute_result"
    }
   ],
   "source": [
    "car"
   ]
  },
  {
   "cell_type": "code",
   "execution_count": 175,
   "metadata": {},
   "outputs": [],
   "source": [
    "car.to_csv('Cleaned_Car_data.csv')"
   ]
  },
  {
   "cell_type": "code",
   "execution_count": 176,
   "metadata": {},
   "outputs": [
    {
     "name": "stdout",
     "output_type": "stream",
     "text": [
      "<class 'pandas.core.frame.DataFrame'>\n",
      "RangeIndex: 44348 entries, 0 to 44347\n",
      "Data columns (total 7 columns):\n",
      " #   Column    Non-Null Count  Dtype \n",
      "---  ------    --------------  ----- \n",
      " 0   brand     44348 non-null  object\n",
      " 1   model     44348 non-null  object\n",
      " 2   year      44348 non-null  int64 \n",
      " 3   energy    44348 non-null  object\n",
      " 4   gear_box  44348 non-null  object\n",
      " 5   trim      44348 non-null  object\n",
      " 6   price     44348 non-null  int64 \n",
      "dtypes: int64(2), object(5)\n",
      "memory usage: 2.4+ MB\n"
     ]
    }
   ],
   "source": [
    "car.info()"
   ]
  },
  {
   "cell_type": "code",
   "execution_count": 177,
   "metadata": {},
   "outputs": [
    {
     "data": {
      "text/plain": [
       "brand       0\n",
       "model       0\n",
       "year        0\n",
       "energy      0\n",
       "gear_box    0\n",
       "trim        0\n",
       "price       0\n",
       "dtype: int64"
      ]
     },
     "execution_count": 177,
     "metadata": {},
     "output_type": "execute_result"
    }
   ],
   "source": [
    "car.isna().sum()"
   ]
  },
  {
   "cell_type": "markdown",
   "metadata": {},
   "source": [
    "### Checking relationship of Company with Price"
   ]
  },
  {
   "cell_type": "code",
   "execution_count": 178,
   "metadata": {},
   "outputs": [
    {
     "data": {
      "text/plain": [
       "array(['e-2008 136ch GT Pack', '1.5 dCi 115ch N-Connecta Euro6d-T',\n",
       "       '0.9 TCe 90ch energy Business Euro6c', ...,\n",
       "       'LONG 950 KG BLUEHDI 130 S&S EAT8 GRIP',\n",
       "       'MEGANE IV BERLINE DCI 110 ENERGY ZEN',\n",
       "       'MARK IV ED4 150 2WD E-CAPABILITY PURE'], dtype=object)"
      ]
     },
     "execution_count": 178,
     "metadata": {},
     "output_type": "execute_result"
    }
   ],
   "source": [
    "car['brand'].unique()\n",
    "car['model'].unique()\n",
    "car['trim'].unique()"
   ]
  },
  {
   "cell_type": "code",
   "execution_count": 179,
   "metadata": {},
   "outputs": [
    {
     "data": {
      "image/png": "[encoded data removed]",
      "text/plain": [
       "<Figure size 1500x700 with 1 Axes>"
      ]
     },
     "metadata": {},
     "output_type": "display_data"
    }
   ],
   "source": [
    "plt.subplots(figsize=(15,7))\n",
    "ax=sns.boxplot(x='brand',y='price',data=car)\n",
    "ax.set_xticklabels(ax.get_xticklabels(),rotation=40,ha='right')\n",
    "plt.show()"
   ]
  },
  {
   "cell_type": "code",
   "execution_count": 180,
   "metadata": {},
   "outputs": [],
   "source": [
    "# plt.subplots(figsize=(20,10))\n",
    "# ax=sns.swarmplot(x='year',y='price',data=car)\n",
    "# ax.set_xticklabels(ax.get_xticklabels(),rotation=40,ha='right')\n",
    "# plt.show()"
   ]
  },
  {
   "cell_type": "code",
   "execution_count": 181,
   "metadata": {},
   "outputs": [],
   "source": [
    "# sns.relplot(x='gear_box',y='price',data=car,height=7,aspect=1.5)"
   ]
  },
  {
   "cell_type": "code",
   "execution_count": null,
   "metadata": {},
   "outputs": [],
   "source": [
    "# plt.subplots(figsize=(14,7))\n",
    "# sns.boxplot(x='gear_box',y='price',data=car)"
   ]
  },
  {
   "cell_type": "code",
   "execution_count": null,
   "metadata": {
    "scrolled": true
   },
   "outputs": [],
   "source": [
    "# ax=sns.relplot(x='brand',y='price',data=car,hue='gear_box',size='year',height=7,aspect=2)\n",
    "# ax.set_xticklabels(rotation=40,ha='right')"
   ]
  },
  {
   "cell_type": "markdown",
   "metadata": {},
   "source": [
    "### Extracting Training Data"
   ]
  },
  {
   "cell_type": "code",
   "execution_count": 182,
   "metadata": {},
   "outputs": [],
   "source": [
    "X=car[['model','brand','gear_box', 'year', 'trim', 'energy']]\n",
    "y=car['price']"
   ]
  },
  {
   "cell_type": "code",
   "execution_count": 183,
   "metadata": {},
   "outputs": [
    {
     "data": {
      "text/html": [
       "<div>\n",
       "<style scoped>\n",
       "    .dataframe tbody tr th:only-of-type {\n",
       "        vertical-align: middle;\n",
       "    }\n",
       "\n",
       "    .dataframe tbody tr th {\n",
       "        vertical-align: top;\n",
       "    }\n",
       "\n",
       "    .dataframe thead th {\n",
       "        text-align: right;\n",
       "    }\n",
       "</style>\n",
       "<table border=\"1\" class=\"dataframe\">\n",
       "  <thead>\n",
       "    <tr style=\"text-align: right;\">\n",
       "      <th></th>\n",
       "      <th>model</th>\n",
       "      <th>brand</th>\n",
       "      <th>gear_box</th>\n",
       "      <th>year</th>\n",
       "      <th>trim</th>\n",
       "      <th>energy</th>\n",
       "    </tr>\n",
       "  </thead>\n",
       "  <tbody>\n",
       "    <tr>\n",
       "      <th>0</th>\n",
       "      <td>2008</td>\n",
       "      <td>PEUGEOT</td>\n",
       "      <td>Automatique</td>\n",
       "      <td>2021</td>\n",
       "      <td>e-2008 136ch GT Pack</td>\n",
       "      <td>Electrique</td>\n",
       "    </tr>\n",
       "    <tr>\n",
       "      <th>1</th>\n",
       "      <td>Qashqai</td>\n",
       "      <td>NISSAN</td>\n",
       "      <td>Manuelle</td>\n",
       "      <td>2020</td>\n",
       "      <td>1.5 dCi 115ch N-Connecta Euro6d-T</td>\n",
       "      <td>Diesel</td>\n",
       "    </tr>\n",
       "    <tr>\n",
       "      <th>2</th>\n",
       "      <td>Captur</td>\n",
       "      <td>RENAULT</td>\n",
       "      <td>Manuelle</td>\n",
       "      <td>2018</td>\n",
       "      <td>0.9 TCe 90ch energy Business Euro6c</td>\n",
       "      <td>Essence</td>\n",
       "    </tr>\n",
       "    <tr>\n",
       "      <th>3</th>\n",
       "      <td>Kadjar</td>\n",
       "      <td>RENAULT</td>\n",
       "      <td>Manuelle</td>\n",
       "      <td>2021</td>\n",
       "      <td>1.5 Blue dCi 115ch Business - 21</td>\n",
       "      <td>Diesel</td>\n",
       "    </tr>\n",
       "    <tr>\n",
       "      <th>4</th>\n",
       "      <td>2008</td>\n",
       "      <td>PEUGEOT</td>\n",
       "      <td>Manuelle</td>\n",
       "      <td>2018</td>\n",
       "      <td>1.2 PureTech 130ch Crossway S&amp;S</td>\n",
       "      <td>Essence</td>\n",
       "    </tr>\n",
       "    <tr>\n",
       "      <th>...</th>\n",
       "      <td>...</td>\n",
       "      <td>...</td>\n",
       "      <td>...</td>\n",
       "      <td>...</td>\n",
       "      <td>...</td>\n",
       "      <td>...</td>\n",
       "    </tr>\n",
       "    <tr>\n",
       "      <th>44343</th>\n",
       "      <td>308</td>\n",
       "      <td>PEUGEOT</td>\n",
       "      <td>Manuelle</td>\n",
       "      <td>2022</td>\n",
       "      <td>PURETECH 130CH S&amp;S BVM6 ALLURE</td>\n",
       "      <td>Essence</td>\n",
       "    </tr>\n",
       "    <tr>\n",
       "      <th>44344</th>\n",
       "      <td>JUMPY</td>\n",
       "      <td>CITROËN</td>\n",
       "      <td>Manuelle</td>\n",
       "      <td>2019</td>\n",
       "      <td>FGN M BLUEHDI 120 S&amp;S BVM6 BUSINESS</td>\n",
       "      <td>Diesel</td>\n",
       "    </tr>\n",
       "    <tr>\n",
       "      <th>44345</th>\n",
       "      <td>C3</td>\n",
       "      <td>CITROËN</td>\n",
       "      <td>Manuelle</td>\n",
       "      <td>2020</td>\n",
       "      <td>PURETECH 82 S&amp;S BVM5 FEEL BUSINESS</td>\n",
       "      <td>Essence</td>\n",
       "    </tr>\n",
       "    <tr>\n",
       "      <th>44346</th>\n",
       "      <td>ROVER RANGE</td>\n",
       "      <td>LAND</td>\n",
       "      <td>Manuelle</td>\n",
       "      <td>2016</td>\n",
       "      <td>MARK IV ED4 150 2WD E-CAPABILITY PURE</td>\n",
       "      <td>Diesel</td>\n",
       "    </tr>\n",
       "    <tr>\n",
       "      <th>44347</th>\n",
       "      <td>2008</td>\n",
       "      <td>PEUGEOT</td>\n",
       "      <td>Manuelle</td>\n",
       "      <td>2016</td>\n",
       "      <td>1.2 PURETECH 110CH S&amp;S BVM5 CROSSWAY</td>\n",
       "      <td>Essence</td>\n",
       "    </tr>\n",
       "  </tbody>\n",
       "</table>\n",
       "<p>44348 rows × 6 columns</p>\n",
       "</div>"
      ],
      "text/plain": [
       "             model    brand     gear_box  year  \\\n",
       "0             2008  PEUGEOT  Automatique  2021   \n",
       "1          Qashqai   NISSAN     Manuelle  2020   \n",
       "2           Captur  RENAULT     Manuelle  2018   \n",
       "3           Kadjar  RENAULT     Manuelle  2021   \n",
       "4             2008  PEUGEOT     Manuelle  2018   \n",
       "...            ...      ...          ...   ...   \n",
       "44343          308  PEUGEOT     Manuelle  2022   \n",
       "44344        JUMPY  CITROËN     Manuelle  2019   \n",
       "44345           C3  CITROËN     Manuelle  2020   \n",
       "44346  ROVER RANGE     LAND     Manuelle  2016   \n",
       "44347         2008  PEUGEOT     Manuelle  2016   \n",
       "\n",
       "                                        trim      energy  \n",
       "0                       e-2008 136ch GT Pack  Electrique  \n",
       "1          1.5 dCi 115ch N-Connecta Euro6d-T      Diesel  \n",
       "2        0.9 TCe 90ch energy Business Euro6c     Essence  \n",
       "3           1.5 Blue dCi 115ch Business - 21      Diesel  \n",
       "4            1.2 PureTech 130ch Crossway S&S     Essence  \n",
       "...                                      ...         ...  \n",
       "44343         PURETECH 130CH S&S BVM6 ALLURE     Essence  \n",
       "44344    FGN M BLUEHDI 120 S&S BVM6 BUSINESS      Diesel  \n",
       "44345     PURETECH 82 S&S BVM5 FEEL BUSINESS     Essence  \n",
       "44346  MARK IV ED4 150 2WD E-CAPABILITY PURE      Diesel  \n",
       "44347   1.2 PURETECH 110CH S&S BVM5 CROSSWAY     Essence  \n",
       "\n",
       "[44348 rows x 6 columns]"
      ]
     },
     "execution_count": 183,
     "metadata": {},
     "output_type": "execute_result"
    }
   ],
   "source": [
    "X"
   ]
  },
  {
   "cell_type": "code",
   "execution_count": 184,
   "metadata": {},
   "outputs": [
    {
     "data": {
      "text/plain": [
       "(44348,)"
      ]
     },
     "execution_count": 184,
     "metadata": {},
     "output_type": "execute_result"
    }
   ],
   "source": [
    "y.shape"
   ]
  },
  {
   "cell_type": "markdown",
   "metadata": {},
   "source": [
    "### Applying Train Test Split"
   ]
  },
  {
   "cell_type": "code",
   "execution_count": 185,
   "metadata": {},
   "outputs": [],
   "source": [
    "X_train,X_test,y_train,y_test=train_test_split(X,y,test_size=0.2)"
   ]
  },
  {
   "cell_type": "markdown",
   "metadata": {},
   "source": [
    "#### Creating an OneHotEncoder object to contain all the possible categories"
   ]
  },
  {
   "cell_type": "code",
   "execution_count": 187,
   "metadata": {},
   "outputs": [
    {
     "data": {
      "text/plain": [
       "OneHotEncoder()"
      ]
     },
     "execution_count": 187,
     "metadata": {},
     "output_type": "execute_result"
    }
   ],
   "source": [
    "ohe=OneHotEncoder()\n",
    "ohe.fit(X[['model','brand','gear_box','trim','energy','year']])"
   ]
  },
  {
   "cell_type": "markdown",
   "metadata": {},
   "source": [
    "#### Creating a column transformer to transform categorical columns"
   ]
  },
  {
   "cell_type": "code",
   "execution_count": 193,
   "metadata": {},
   "outputs": [
    {
     "data": {
      "text/plain": [
       "ColumnTransformer(remainder='passthrough',\n",
       "                  transformers=[('onehotencoder',\n",
       "                                 OneHotEncoder(categories=[array(['107', '108', '2', '2008', '206+', '207', '207 Cc', '208', '3',\n",
       "       '3 CABRIO', '3 CROSSBACK', '3008', '308', '308 CC', '308 SW',\n",
       "       '308 Sw', '370z', '4', '4 CROSSBACK', '5', '500', '5008', '500L',\n",
       "       '500X', '500c', '500l', '500l Living', '500x', '508',\n",
       "       '508 Hybrid4', '508 SW', '508 Sw', '595',...\n",
       "       'xDrive45eA 394ch M Sport 17cv'], dtype=object),\n",
       "                                                           array(['Diesel', 'DieselM', 'Electrique', 'Essence', 'EssenceB',\n",
       "       'EssenceM', 'GPL', 'Gnv', 'Gpl', 'Hyb Diesel rechargeable',\n",
       "       'Hybride', 'Hybride Rechargeable', 'HybrideR'], dtype=object),\n",
       "                                                           array([2009, 2010, 2011, 2012, 2013, 2014, 2015, 2016, 2017, 2018, 2019,\n",
       "       2020, 2021, 2022], dtype=int64)]),\n",
       "                                 ['model', 'brand', 'gear_box', 'trim',\n",
       "                                  'energy', 'year'])])"
      ]
     },
     "execution_count": 193,
     "metadata": {},
     "output_type": "execute_result"
    }
   ],
   "source": [
    "column_trans=make_column_transformer((OneHotEncoder(categories=ohe.categories_),['model','brand','gear_box','trim','energy','year']),remainder='passthrough')\n",
    "column_trans"
   ]
  },
  {
   "cell_type": "markdown",
   "metadata": {},
   "source": [
    "#### Linear Regression Model"
   ]
  },
  {
   "cell_type": "code",
   "execution_count": 194,
   "metadata": {},
   "outputs": [],
   "source": [
    "lr=LinearRegression()"
   ]
  },
  {
   "cell_type": "markdown",
   "metadata": {},
   "source": [
    "#### Making a pipeline"
   ]
  },
  {
   "cell_type": "code",
   "execution_count": 195,
   "metadata": {},
   "outputs": [],
   "source": [
    "pipe=make_pipeline(column_trans,lr)"
   ]
  },
  {
   "cell_type": "markdown",
   "metadata": {},
   "source": [
    "#### Fitting the  model"
   ]
  },
  {
   "cell_type": "code",
   "execution_count": 196,
   "metadata": {
    "scrolled": true
   },
   "outputs": [
    {
     "data": {
      "text/plain": [
       "Pipeline(steps=[('columntransformer',\n",
       "                 ColumnTransformer(remainder='passthrough',\n",
       "                                   transformers=[('onehotencoder',\n",
       "                                                  OneHotEncoder(categories=[array(['107', '108', '2', '2008', '206+', '207', '207 Cc', '208', '3',\n",
       "       '3 CABRIO', '3 CROSSBACK', '3008', '308', '308 CC', '308 SW',\n",
       "       '308 Sw', '370z', '4', '4 CROSSBACK', '5', '500', '5008', '500L',\n",
       "       '500X', '500c', '500l', '500l Living', '500x', '508...\n",
       "                                                                            array(['Diesel', 'DieselM', 'Electrique', 'Essence', 'EssenceB',\n",
       "       'EssenceM', 'GPL', 'Gnv', 'Gpl', 'Hyb Diesel rechargeable',\n",
       "       'Hybride', 'Hybride Rechargeable', 'HybrideR'], dtype=object),\n",
       "                                                                            array([2009, 2010, 2011, 2012, 2013, 2014, 2015, 2016, 2017, 2018, 2019,\n",
       "       2020, 2021, 2022], dtype=int64)]),\n",
       "                                                  ['model', 'brand', 'gear_box',\n",
       "                                                   'trim', 'energy',\n",
       "                                                   'year'])])),\n",
       "                ('linearregression', LinearRegression())])"
      ]
     },
     "execution_count": 196,
     "metadata": {},
     "output_type": "execute_result"
    }
   ],
   "source": [
    "pipe.fit(X_train,y_train)"
   ]
  },
  {
   "cell_type": "code",
   "execution_count": 197,
   "metadata": {},
   "outputs": [],
   "source": [
    "y_pred=pipe.predict(X_test)"
   ]
  },
  {
   "cell_type": "markdown",
   "metadata": {},
   "source": [
    "#### Checking R2 Score"
   ]
  },
  {
   "cell_type": "code",
   "execution_count": 200,
   "metadata": {},
   "outputs": [
    {
     "data": {
      "text/plain": [
       "0.9241284229286261"
      ]
     },
     "execution_count": 200,
     "metadata": {},
     "output_type": "execute_result"
    }
   ],
   "source": [
    "r2_score(y_test,y_pred)"
   ]
  },
  {
   "cell_type": "markdown",
   "metadata": {},
   "source": [
    "#### Finding the model with a random state of TrainTestSplit where the model was found to give almost 0.80 as r2_score"
   ]
  },
  {
   "cell_type": "code",
   "execution_count": null,
   "metadata": {},
   "outputs": [],
   "source": [
    "scores=[]\n",
    "for i in range(1000):\n",
    "    X_train,X_test,y_train,y_test=train_test_split(X,y,test_size=0.1,random_state=i)\n",
    "    lr=LinearRegression()\n",
    "    pipe=make_pipeline(column_trans,lr)\n",
    "    pipe.fit(X_train,y_train)\n",
    "    y_pred=pipe.predict(X_test)\n",
    "    scores.append(r2_score(y_test,y_pred))"
   ]
  },
  {
   "cell_type": "code",
   "execution_count": null,
   "metadata": {},
   "outputs": [
    {
     "data": {
      "text/plain": [
       "260"
      ]
     },
     "execution_count": 134,
     "metadata": {},
     "output_type": "execute_result"
    }
   ],
   "source": [
    "np.argmax(scores)"
   ]
  },
  {
   "cell_type": "code",
   "execution_count": null,
   "metadata": {},
   "outputs": [
    {
     "data": {
      "text/plain": [
       "0.8041204733744746"
      ]
     },
     "execution_count": 135,
     "metadata": {},
     "output_type": "execute_result"
    }
   ],
   "source": [
    "scores[np.argmax(scores)]"
   ]
  },
  {
   "cell_type": "code",
   "execution_count": null,
   "metadata": {},
   "outputs": [
    {
     "data": {
      "text/plain": [
       "array([30093.75711024])"
      ]
     },
     "execution_count": 136,
     "metadata": {},
     "output_type": "execute_result"
    }
   ],
   "source": [
    "pipe.predict(pd.DataFrame(columns=X_test.columns,data=np.array(['Qashqai','NISSAN','Automatique']).reshape(1,3)))"
   ]
  },
  {
   "cell_type": "markdown",
   "metadata": {},
   "source": [
    "#### The best model is found at a certain random state "
   ]
  },
  {
   "cell_type": "code",
   "execution_count": null,
   "metadata": {},
   "outputs": [
    {
     "data": {
      "text/plain": [
       "0.8041204733744746"
      ]
     },
     "execution_count": 137,
     "metadata": {},
     "output_type": "execute_result"
    }
   ],
   "source": [
    "X_train,X_test,y_train,y_test=train_test_split(X,y,test_size=0.1,random_state=np.argmax(scores))\n",
    "lr=LinearRegression()\n",
    "pipe=make_pipeline(column_trans,lr)\n",
    "pipe.fit(X_train,y_train)\n",
    "y_pred=pipe.predict(X_test)\n",
    "r2_score(y_test,y_pred)"
   ]
  },
  {
   "cell_type": "code",
   "execution_count": null,
   "metadata": {},
   "outputs": [],
   "source": [
    "pickle.dump(pipe,open('CarPricePredict.pkl','wb'))"
   ]
  },
  {
   "cell_type": "code",
   "execution_count": null,
   "metadata": {},
   "outputs": [
    {
     "data": {
      "text/plain": [
       "array([29957.33746866])"
      ]
     },
     "execution_count": 139,
     "metadata": {},
     "output_type": "execute_result"
    }
   ],
   "source": [
    "pipe.predict(pd.DataFrame(columns=['model','brand','gear_box'],data=np.array(['Qashqai','NISSAN','Automatique']).reshape(1,3)))"
   ]
  },
  {
   "cell_type": "code",
   "execution_count": null,
   "metadata": {
    "collapsed": false
   },
   "outputs": [
    {
     "data": {
      "text/plain": [
       "array([29957.33746866])"
      ]
     },
     "execution_count": 140,
     "metadata": {},
     "output_type": "execute_result"
    }
   ],
   "source": [
    "pipe.predict(pd.DataFrame(columns=['model','brand','gear_box'],data=np.array(['Qashqai','NISSAN','Automatique']).reshape(1,3)))"
   ]
  },
  {
   "cell_type": "code",
   "execution_count": null,
   "metadata": {
    "collapsed": false
   },
   "outputs": [],
   "source": []
  }
 ],
 "metadata": {
  "kernelspec": {
   "display_name": "Python 3.9.13 ('base')",
   "language": "python",
   "name": "python3"
  },
  "language_info": {
   "codemirror_mode": {
    "name": "ipython",
    "version": 3
   },
   "file_extension": ".py",
   "mimetype": "text/x-python",
   "name": "python",
   "nbconvert_exporter": "python",
   "pygments_lexer": "ipython3",
   "version": "3.9.13"
  },
  "vscode": {
   "interpreter": {
    "hash": "96f40457afcce61d757a2f5631053dd6cef7846cfe9d7671203e79183e34ad44"
   }
  }
 },
 "nbformat": 4,
 "nbformat_minor": 2
}
